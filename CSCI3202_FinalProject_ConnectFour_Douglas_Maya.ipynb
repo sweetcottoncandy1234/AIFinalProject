{
 "cells": [
  {
   "cell_type": "markdown",
   "metadata": {},
   "source": [
    "---\n",
    "\n",
    "# CSCI 3202, Fall 2022\n",
    "# Final Project\n",
    "# Project Due: Thursday December 8, 2022 at 6:00 PM\n",
    "## Proposals Due: Friday November 18, 2022 at 6:00 PM\n"
   ]
  },
  {
   "cell_type": "markdown",
   "metadata": {},
   "source": [
    "You have two options for completing your final project for this course. \n",
    "\n",
    "#### Option 1 ####\n",
    "The first option is presented in this notebook and involves implementing a Connect Four game with AB pruning and A* as player strategies. \n",
    "\n",
    "#### Option 2 ####\n",
    "The second option is to design your own project that includes any of the algorithms we've discussed throughout the semester, or an algorithm that you're interested in learning that we haven't discussed in class. Your project also needs to include some kind of analysis of how it performed on a specific problem. If you're interested in the design your own project option, you need to discuss your idea with one of the course instructors to get approval. If you do a project without getting approval, you will receive a 0 regardless of the quality of the project. \n",
    "\n",
    "**The rules:**\n",
    "\n",
    "1. Choose EITHER the given problem to submit OR choose your own project topic. \n",
    "\n",
    "2. If you choose your own project topic, please adhere to the following guidelines:\n",
    "- Send an email to the course instructors before Friday, November 18 at 6pm, with a paragraph description of your project. We will respond within 24 hours with feedback.\n",
    "- The project can include an algorithm we've discussed throughout the semester or an algorithm that you're been curious to learn. Please don't recycle a project that you did in another class. \n",
    "- If you do your own project without prior approval, you will receive a 0 for this project.\n",
    "- Your project code, explanation, and results must all be contained in a Jupyter notebook. \n",
    "\n",
    "3. All work, code and analysis must be **your own**.\n",
    "4. You may use your course notes, posted lecture slides, textbook, in-class notebooks and homework solutions as resources.  You may also search online for answers to general knowledge questions, like the form of a probability distribution function, or how to perform a particular operation in Python. You may not use entire segments of code as solutions to any part of this project, e.g. if you find a Python implementation of policy iteration online, you can't use it.\n",
    "5. You may **not** post to message boards or other online resources asking for help.\n",
    "6. **You may not collaborate with classmates or anyone else.**\n",
    "7. This is meant to be like a coding portion of an exam. So, we will be much less helpful than we typically are with homework. For example, we will not check answers, help debug your code, and so on.\n",
    "8. If you have a question, post it first as a **private** Piazza message. If we decide that it is appropriate for the entire class, then we will make it a public post (and anonymous).\n",
    "9. If any part of the given project or your personal project is left open-ended, it is because we intend for you to code it up however you want. Our primary concern is with the plots/analysis that your code produces. Feel free to ask clarifying questions though.\n",
    "\n",
    "Violation of these rules will result in an **F** and a trip to the Honor Code council.\n",
    "\n",
    "---\n",
    "**By writing your name below, you agree to abide by these rules:**\n",
    "\n",
    "**Your name:** Maya Douglas\n",
    "\n",
    "---\n"
   ]
  },
  {
   "cell_type": "markdown",
   "metadata": {},
   "source": [
    "---\n",
    "\n",
    "Some useful packages and libraries:\n",
    "\n"
   ]
  },
  {
   "cell_type": "code",
   "execution_count": 1,
   "metadata": {},
   "outputs": [],
   "source": [
    "import numpy as np\n",
    "import pandas as pd\n",
    "import matplotlib.pyplot as plt\n",
    "from matplotlib import colors\n",
    "from collections import deque\n",
    "import heapq\n",
    "import unittest\n",
    "from scipy import stats\n",
    "import copy as cp\n",
    "from time import time\n",
    "import math\n",
    "from numpy import inf"
   ]
  },
  {
   "cell_type": "markdown",
   "metadata": {},
   "source": [
    "---\n",
    "\n",
    "## Problem 1: Game Theory - Playing \"intelligent\" Connect Four"
   ]
  },
  {
   "cell_type": "markdown",
   "metadata": {},
   "source": [
    "Connect Four is a two-player game where the objective is to get four pieces in a row - horizontally, vertically, or diagonally. Check out this video if you're unfamiliar with the game: https://www.youtube.com/watch?v=utXzIFEVPjA.\n",
    "\n",
    "### (1a)   Defining the Connect Four class structure\n",
    "\n",
    "We've provided the humble beginnings of a Connect Four game. You need to fill in this class structure for Connect Four using what we did during class as a guide, and then implement min-max search with AB pruning, and A* search with at least one heuristic function. The class structure includes the following:\n",
    "\n",
    "* `moves` is a list of columns to represent which moves are available. Recall that we are using matrix notation for this, where the upper-left corner of the board, for example, is represented at (1,1).\n",
    "* `result(self, move, state)` returns a ***hypothetical*** resulting `State` object if `move` is made when the game is in the current `state`. Note that when a 'move' is made, the column must have an open slot and the piece must drop to the lowest row. \n",
    "* `compute_utility(self, move, state)` calculates the utility of `state` that would result if `move` is made when the game is in the current `state`. This is where you want to check to see if anyone has gotten `nwin` in a row\n",
    "* `game_over(self, state)` returns `True` if the game in the given `state` has reached a terminal state, and `False` otherwise.\n",
    "* `utility(self, state, player)` returns the utility of the current state if the player is Red and $-1 \\cdot$ utility if the player is Black.\n",
    "* `display(self)` is a method to display the current game `state`. You get it for free because this would be super frustrating without it.\n",
    "* `play_game(self, player1, player2)` returns an integer that is the utility of the outcome of the game (+1 if Red wins, 0 if draw, -1 if Black wins). `player1` and `player2` are functional arguments that we will deal with in parts **1b** and **1d**.\n",
    "\n",
    "Some notes:\n",
    "* Assume Red always goes first.\n",
    "* Do **not** hard-code for 6x7 boards.\n",
    "* You may add attributes and methods to these classes as needed for this problem."
   ]
  },
  {
   "cell_type": "code",
   "execution_count": 2,
   "metadata": {},
   "outputs": [],
   "source": [
    "class State:\n",
    "    def __init__(self, nrow, ncol):\n",
    "        self.last_move = 'B'\n",
    "        self.to_move = 'R'\n",
    "        self.utility = 0\n",
    "        self.board = {}\n",
    "        # self.moves = moves\n",
    "        self.nrow = nrow\n",
    "        self.ncol = ncol\n",
    "        self.updateMoves()\n",
    "        self.lastMovePos = (-1,-1)\n",
    "    # def u(self, state):\n",
    "    #     return [(x, y) for (x, y) in state.moves\n",
    "    #             if x == self.h or (x + 1 , y ) in state.board]\n",
    "    def updateMoves(self): \n",
    "        self.moves = [x for x in range(self.ncol) if not (self.nrow - 1, x) in self.board]\n",
    "\n",
    "class ConnectFour:\n",
    "    def __init__(self, nrow=6, ncol=7, nwin=4):\n",
    "        self.nrow = nrow\n",
    "        self.ncol = ncol\n",
    "        self.nwin = nwin\n",
    "        # moves = [(row,col) for row in range(1, nrow + 1) for col in range(1, ncol + 1)]\n",
    "        self.state = State(nrow, ncol)\n",
    "\n",
    "    def result(self, state, move):\n",
    "        '''\n",
    "        What is the hypothetical result of move `move` in state `state` ?\n",
    "        move  = (row, col) tuple where player will put their mark (R or B)\n",
    "        state = a `State` object, to represent whose turn it is and form\n",
    "                the basis for generating a **hypothetical** updated state\n",
    "                that will result from making the given `move`\n",
    "        '''\n",
    "        '''\n",
    "        What is the hypothetical result of move `move` in state `state` ?\n",
    "        move  = (row, col) tuple where player will put their mark (X or O)\n",
    "        state = a `State` object, to represent whose turn it is and form\n",
    "                the basis for generating a **hypothetical** updated state\n",
    "                that will result from making the given `move`\n",
    "        '''\n",
    "        if move not in state.moves:\n",
    "            # self.display()\n",
    "            # raise Exception(\"Move \" + move + \" was attemped, not legal.\")\n",
    "            return -1000\n",
    "        \n",
    "        new_state = cp.deepcopy(state)\n",
    "        \n",
    "        \n",
    "        for i in range(self.nrow-2, -2, -1): #loops backwards itereates by -1\n",
    "            if i < 0 or (i, move) in state.board:\n",
    "                new_state.board[(i + 1, move)] = state.to_move \n",
    "                new_state.lastMovePos = (i + 1, move)\n",
    "                break\n",
    "        # Return a copy of the updated state:\n",
    "        #   compute utility, update the board, remove the move, update whose turn\n",
    "        new_state.updateMoves()\n",
    "        new_state.last_move = state.to_move\n",
    "        new_state.to_move = state.last_move\n",
    "        return new_state\n",
    "        \n",
    "    def compute_utility(self, state, move = None):\n",
    "        if move is not None:\n",
    "            state = self.result(state, move)\n",
    "        for player in [\"R\", \"B\"]:\n",
    "            row = state.lastMovePos[0]\n",
    "            col = state.lastMovePos[1]\n",
    "            board = state.board\n",
    "\n",
    "            in_a_row = 0\n",
    "            for c in range(self.ncol):\n",
    "                if board.get((row,c))==player:\n",
    "                    in_a_row += 1\n",
    "                elif in_a_row < self.nwin:\n",
    "                    in_a_row = 0\n",
    "\n",
    "            in_a_col = 0\n",
    "            for r in range(self.nrow):\n",
    "                if board.get((r,col))==player:\n",
    "                    in_a_col += 1\n",
    "                elif in_a_col < self.nwin:\n",
    "                    in_a_col = 0\n",
    "\n",
    "            in_a_diag1 = 0\n",
    "            for r in range(self.nrow):\n",
    "                if board.get((r,col-(row-r)))==player:\n",
    "                    in_a_diag1 += 1\n",
    "                elif in_a_diag1 < self.nwin: \n",
    "                    in_a_diag1 = 0\n",
    "                    \n",
    "            in_a_diag2 = 0\n",
    "            for r in range(self.nrow):\n",
    "                if board.get((r,col+(row-r)))==player:\n",
    "                    in_a_diag2 += 1\n",
    "                elif in_a_diag2 < self.nwin: \n",
    "                    in_a_diag2 = 0\n",
    "            won = in_a_row >= self.nwin or in_a_col >= self.nwin or in_a_diag1 >= self.nwin or in_a_diag2 >= self.nwin\n",
    "            if won:\n",
    "                state.utility = 1 if self.state.last_move == \"R\" else -1\n",
    "                return 1 if self.state.last_move == \"R\" else -1\n",
    "        state.utility = 0\n",
    "        return 0\n",
    "\n",
    "\n",
    "    def game_over(self, state):\n",
    "        '''game is over if someone has won (utility!=0) or there\n",
    "        are no more moves left'''\n",
    "        return len(state.moves) == 0 or self.compute_utility(state) != 0\n",
    "    \n",
    "    def utility(self, state, player):\n",
    "        '''Return the value to player; 1 for win, -1 for loss, 0 otherwise.'''\n",
    "        \n",
    "        # your code goes here...\n",
    "        return state.utility if player=='R' else -state.utility\n",
    "        print(state.utility)\n",
    "\n",
    "    def display(self, state):\n",
    "        print(\"\")\n",
    "        board = state.board\n",
    "        for row in range(self.nrow - 1, -1, -1):\n",
    "            for col in range(self.ncol):\n",
    "                print(board.get((row, col), '.'), end=' ')\n",
    "            print()\n",
    "\n",
    "    def play_game(self, player1, player2):\n",
    "        '''Play a game of Connect Four!'''\n",
    "        \n",
    "        # your code goes here...\n",
    "        turn_limit = self.nrow*self.ncol  # limit in case of buggy code\n",
    "        turn = 0\n",
    "        while turn<=turn_limit:\n",
    "            for player in [player1, player2]:\n",
    "                turn += 1\n",
    "                move = player(self)\n",
    "                self.state = self.result(self.state, move)\n",
    "                if self.game_over(self.state):\n",
    "                    return self.state.utility\n",
    "        return 0        "
   ]
  },
  {
   "cell_type": "markdown",
   "metadata": {},
   "source": [
    "### (1b) Define a random player\n",
    "\n",
    "Define a function `random_player` that takes a single argument of the `ConnectFour` class and returns a random move out of the available legal moves in the `state` of the `ConnectFour` game.\n",
    "\n",
    "In your code for the `play_game` method above, make sure that `random_player` could be a viable input for the `player1` and/or `player2` arguments."
   ]
  },
  {
   "cell_type": "code",
   "execution_count": 3,
   "metadata": {},
   "outputs": [],
   "source": [
    "def random_player(game):\n",
    "    '''A player that chooses a legal move at random out of all\n",
    "    available legal moves in ConnectFour state argument'''\n",
    "    \n",
    "    # your code goes here...\n",
    "    possible_actions = game.state.moves\n",
    "    return possible_actions[np.random.randint(low=0, high=len(possible_actions))]\n",
    "    "
   ]
  },
  {
   "cell_type": "markdown",
   "metadata": {},
   "source": [
    "We know from experience and/or because I'm telling you right now that if two `random_player`s play many games of ConnectFour against one another, whoever goes first will win about 55% of the time.  Verify that this is the case by playing at least 1,000 games between two random players. Report the proportion of the games that the first player has won.**(Chris: is this true for TicTacToe, or Connect Four)**\n",
    "\n",
    "**\"Unit tests\":** If you are wondering how close is close enough to 55%, I simulated 100 tournaments of 1,000 games each. The min-max range of win percentage by the first player was 52-59%."
   ]
  },
  {
   "cell_type": "code",
   "execution_count": 4,
   "metadata": {},
   "outputs": [
    {
     "name": "stdout",
     "output_type": "stream",
     "text": [
      "First-player winning percentage = 0.524\n",
      "Second-player winning percentage = 0.471\n",
      "Draw percentage = 0.005\n"
     ]
    }
   ],
   "source": [
    "niter = 1000\n",
    "wins = 0\n",
    "draws = 0\n",
    "losses = 0\n",
    "#the larger niter is the worse it gets\n",
    "#why\n",
    "for k in range(niter):\n",
    "    ttt = ConnectFour(6,7,4)\n",
    "    out = ttt.play_game(random_player, random_player)\n",
    "    if out==1:\n",
    "        wins += 1\n",
    "    elif out==-1:\n",
    "        losses += 1\n",
    "    else:\n",
    "        draws += 1\n",
    "print('First-player winning percentage = {}'.format(wins/niter))\n",
    "print('Second-player winning percentage = {}'.format(losses/niter))\n",
    "print('Draw percentage = {}'.format(draws/niter))"
   ]
  },
  {
   "cell_type": "markdown",
   "metadata": {},
   "source": [
    "### (1c) What about playing randomly on different-sized boards?\n",
    "\n",
    "What does the long-term win percentage appear to be for the first player in a 10x10 ConnectFour tournament, where 4 marks must be connected for a win?  Support your answer using a simulation and printed output, similar to **1b**.\n",
    "\n",
    "**Also:** The win percentage should have changed substantially. Did the decrease in wins turn into more losses for the first player or more draws? Write a few sentences explaining the behavior you observed.  *Hint: think about how the size of the state space has changed.*"
   ]
  },
  {
   "cell_type": "code",
   "execution_count": 5,
   "metadata": {},
   "outputs": [
    {
     "name": "stdout",
     "output_type": "stream",
     "text": [
      "First-player winning percentage = 0.458\n",
      "Second-player winning percentage = 0.45\n",
      "Draw percentage = 0.092\n"
     ]
    }
   ],
   "source": [
    "# 1000 games between two random players\n",
    "niter = 1000\n",
    "wins = 0\n",
    "draws = 0\n",
    "losses = 0\n",
    "#the larger niter is the worse it gets\n",
    "#why\n",
    "for k in range(niter):\n",
    "    ttt = ConnectFour(10,10,6)\n",
    "    out = ttt.play_game(random_player, random_player)\n",
    "    if out==1:\n",
    "        wins += 1\n",
    "    elif out==-1:\n",
    "        losses += 1\n",
    "    else:\n",
    "        draws += 1\n",
    "print('First-player winning percentage = {}'.format(wins/niter))\n",
    "print('Second-player winning percentage = {}'.format(losses/niter))\n",
    "print('Draw percentage = {}'.format(draws/niter))"
   ]
  },
  {
   "cell_type": "markdown",
   "metadata": {},
   "source": [
    "The win percentage decreases and draw percentage increases. This is because the game tends to be more equal when it's 10 by 10 because of a balanced state space. The first-player winning and loss percentages are more equal in this case too. Bias towards the first player becomes less and less evident as state space becomes larger because it has time to balance out - the more it gets played the ledss who played first affects winning percentage. The even playing field also contributes to draws - again, less bias."
   ]
  },
  {
   "cell_type": "markdown",
   "metadata": {},
   "source": [
    "### (1d) Define an alpha-beta player\n",
    "\n",
    "Alright. Let's finally get serious about our Connect Four game.  No more fooling around!\n",
    "\n",
    "Craft a function called `alphabeta_player` that takes a single argument of a `ConnectFour` class object and returns the minimax move in the `state` of the `ConnectFour` game. As the name implies, this player should be implementing alpha-beta pruning as described in the textbook and lecture.\n",
    "\n",
    "Note that your alpha-beta search for the minimax move should include function definitions for `max_value` and `min_value` (see the aggressively realistic pseudocode from the lecture slides).\n",
    "\n",
    "In your code for the `play_game` method above, make sure that `alphabeta_player` could be a viable input for the `player1` and/or `player2` arguments."
   ]
  },
  {
   "cell_type": "code",
   "execution_count": 6,
   "metadata": {},
   "outputs": [],
   "source": [
    "def alpha_beta_player(game):\n",
    "    # Add variables to keep track of the minimax value and pruning percentage\n",
    "    minimax_value = None\n",
    "    nodes_evaluated = 0\n",
    "    nodes_pruned = 0\n",
    "\n",
    "    state = game.state\n",
    "    player = game.state.to_move\n",
    "    # Functions used by alpha_beta\n",
    "    def max_value(state, alpha, beta, depth = 0):\n",
    "        nonlocal minimax_value, nodes_evaluated, nodes_pruned\n",
    "\n",
    "        if depth == -1000 or game.game_over(state):\n",
    "            minimax_value = game.utility(state, player)\n",
    "            return minimax_value\n",
    "        v = -np.inf    \n",
    "        for a in state.moves:\n",
    "            nodes_evaluated += 1\n",
    "            v = max(v, min_value(game.result(state, a), alpha, beta, depth + 1))\n",
    "            if v >= beta:\n",
    "                nodes_pruned += 1\n",
    "                return v\n",
    "            alpha = max(alpha, v)\n",
    "        return v\n",
    "\n",
    "    def min_value(state, alpha, beta, depth = 0):\n",
    "        nonlocal minimax_value, nodes_evaluated, nodes_pruned\n",
    "\n",
    "        if depth == -1000 or game.game_over(state):\n",
    "            minimax_value = game.utility(state, player)\n",
    "            return minimax_value\n",
    "        v = np.inf\n",
    "        for a in state.moves:\n",
    "            nodes_evaluated += 1\n",
    "            v = min(v, max_value(game.result(state, a), alpha, beta, depth + 1))\n",
    "            if v <= alpha:\n",
    "                nodes_pruned += 1\n",
    "                return v\n",
    "            beta = min(beta, v)\n",
    "        return v\n",
    "\n",
    "    # Body of alpha_beta_search:\n",
    "    best_score = -np.inf\n",
    "    beta = np.inf\n",
    "    best_action = None\n",
    "    for a in game.state.moves:\n",
    "        v = min_value(game.result(state, a), best_score, beta)\n",
    "        if v > best_score:\n",
    "            best_score = v\n",
    "            best_action = a\n",
    "        if v >= beta:\n",
    "            break\n",
    "\n",
    "    # Calculate the pruning percentage and print the results\n",
    "    # pruning_percentage = nodes_pruned / nodes_evaluated * 100\n",
    "    # print(\"Minimax value:\", minimax_value)\n",
    "    # print(\"Nodes evaluated:\", nodes_evaluated)\n",
    "    # print(\"Nodes pruned:\", nodes_pruned)\n",
    "    # print(\"Pruning percentage:\", pruning_percentage)\n",
    "    return best_action\n"
   ]
  },
  {
   "cell_type": "markdown",
   "metadata": {},
   "source": [
    "Verify that your alpha-beta player code is working appropriately through the following tests, using a standard 6x7 ConnectFour board. Run **10 games for each test**, and track the number of wins, draws and losses. Report these results for each case.\n",
    "\n",
    "1. An alpha-beta player who plays first should never lose to a random player who plays second.\n",
    "2. Two alpha-beta players should always draw. One player is the max player and the other player is the min player.\n",
    "\n",
    "**Nota bene:** Test your code with fewer games between the players to start, because the alpha-beta player will require substantially more compute time than the random player.  This is why I only ask for 10 games, which still might take a minute or two. You are welcome to run more than 10 tests if you'd like. "
   ]
  },
  {
   "cell_type": "code",
   "execution_count": 7,
   "metadata": {},
   "outputs": [
    {
     "name": "stdout",
     "output_type": "stream",
     "text": [
      "First-player winning percentage = 0.842\n",
      "Second-player winning percentage = 0.124\n",
      "Draw percentage = 0.034\n"
     ]
    }
   ],
   "source": [
    "# 1000 games between two random players\n",
    "niter = 1000\n",
    "wins = 0\n",
    "draws = 0\n",
    "losses = 0\n",
    "#the larger niter is the worse it gets\n",
    "#why\n",
    "for k in range(niter):\n",
    "    ttt = ConnectFour(3,4,3)\n",
    "    out = ttt.play_game(alpha_beta_player, random_player)\n",
    "    if out==1:\n",
    "        wins += 1\n",
    "    elif out==-1:\n",
    "        losses += 1\n",
    "    else:\n",
    "        draws += 1\n",
    "print('First-player winning percentage = {}'.format(wins/niter))\n",
    "print('Second-player winning percentage = {}'.format(losses/niter))\n",
    "print('Draw percentage = {}'.format(draws/niter))"
   ]
  },
  {
   "cell_type": "markdown",
   "metadata": {},
   "source": [
    "### (1e) What has pruning ever done for us?\n",
    "\n",
    "Calculate the number of number of states expanded by the minimax algorithm, **with and without pruning**, to determine the minimax decision from the initial 6x7 ConnectFour board state.  This can be done in many ways, but writing out all the states by hand is **not** one of them (as you will find out!).\n",
    "\n",
    "Then compute the percent savings that you get by using alpha-beta pruning. i.e. Compute $\\frac{\\text{Number of nodes expanded with pruning}}{\\text{Number of nodes expanded with minimax}} $\n",
    "\n",
    "Write a sentence or two, commenting on the difference in number of nodes expanded by each search."
   ]
  },
  {
   "cell_type": "markdown",
   "metadata": {},
   "source": [
    "I made an alpha beta pruning function that prints out the computations."
   ]
  },
  {
   "cell_type": "code",
   "execution_count": 8,
   "metadata": {},
   "outputs": [],
   "source": [
    "def alpha_beta_pruning(game):\n",
    "    # Add variables to keep track of the minimax value and pruning percentage\n",
    "    minimax_value = None\n",
    "    nodes_evaluated = 0\n",
    "    nodes_pruned = 0\n",
    "\n",
    "    state = game.state\n",
    "    player = game.state.to_move\n",
    "    # Functions used by alpha_beta\n",
    "    def max_value(state, alpha, beta, depth = 0):\n",
    "        nonlocal minimax_value, nodes_evaluated, nodes_pruned\n",
    "\n",
    "        if depth == -1000 or game.game_over(state):\n",
    "            minimax_value = game.utility(state, player)\n",
    "            return minimax_value\n",
    "        v = -np.inf    \n",
    "        for a in state.moves:\n",
    "            nodes_evaluated += 1\n",
    "            v = max(v, min_value(game.result(state, a), alpha, beta, depth + 1))\n",
    "            if v >= beta:\n",
    "                nodes_pruned += 1\n",
    "                return v\n",
    "            alpha = max(alpha, v)\n",
    "        return v\n",
    "\n",
    "    def min_value(state, alpha, beta, depth = 0):\n",
    "        nonlocal minimax_value, nodes_evaluated, nodes_pruned\n",
    "\n",
    "        if depth == -1000 or game.game_over(state):\n",
    "            minimax_value = game.utility(state, player)\n",
    "            return minimax_value\n",
    "        v = np.inf\n",
    "        for a in state.moves:\n",
    "            nodes_evaluated += 1\n",
    "            v = min(v, max_value(game.result(state, a), alpha, beta, depth + 1))\n",
    "            if v <= alpha:\n",
    "                nodes_pruned += 1\n",
    "                return v\n",
    "            beta = min(beta, v)\n",
    "        return v\n",
    "\n",
    "    # Body of alpha_beta_search:\n",
    "    best_score = -np.inf\n",
    "    beta = np.inf\n",
    "    best_action = None\n",
    "    for a in game.state.moves:\n",
    "        v = min_value(game.result(state, a), best_score, beta)\n",
    "        if v > best_score:\n",
    "            best_score = v\n",
    "            best_action = a\n",
    "        if v >= beta:\n",
    "            break\n",
    "\n",
    "    # Calculate the pruning percentage and print the results\n",
    "    pruning_percentage = nodes_pruned / nodes_evaluated * 100\n",
    "    print(\"Minimax value:\", minimax_value)\n",
    "    print(\"Nodes evaluated:\", nodes_evaluated)\n",
    "    print(\"Nodes pruned:\", nodes_pruned)\n",
    "    print(\"Pruning percentage:\", pruning_percentage)\n",
    "    return best_action\n"
   ]
  },
  {
   "cell_type": "code",
   "execution_count": 9,
   "metadata": {},
   "outputs": [
    {
     "name": "stdout",
     "output_type": "stream",
     "text": [
      "Minimax value: -1\n",
      "Nodes evaluated: 801\n",
      "Nodes pruned: 295\n",
      "Pruning percentage: 36.82896379525593\n",
      "0\n"
     ]
    }
   ],
   "source": [
    "game = ConnectFour(3, 4, 3)\n",
    "print(alpha_beta_pruning(game))"
   ]
  },
  {
   "cell_type": "markdown",
   "metadata": {},
   "source": [
    "### (2) A* Search\n",
    "\n",
    "In Part II of this project, you need to implement a player strategy to employ A* Search in order to win at ConnectFour. To test your A* player, play 10 games against the random player and 10 games against the AB pruning player. \n",
    "\n",
    "Write an explanation of this strategy's implementation and performance in comparison to the random player and the AB Pruning player from **1d**.\n",
    "\n",
    "A lot of the code that you wrote for the minimax player and the Connect Four game structure can be reused for the A* player. However, you will need to write a new utility function for A* that considers the path cost and heuristic cost.\n"
   ]
  },
  {
   "cell_type": "markdown",
   "metadata": {},
   "source": [
    "### (2a) Define a heuristic function\n",
    "Your A* player will need to use a heuristic function. You have two options for heurstics: research an existing heuristic for Connect Four, or games similar to Connect Four, and use that. Or, design your own heuristic. Write a one-paragraph description of the heuristic you're using, including a citation if you used an existing heuristic."
   ]
  },
  {
   "cell_type": "markdown",
   "metadata": {},
   "source": [
    "Three-in-a-row heuristic might be a rule or strategy that a player uses to try to get three of their pieces in a row on the game board. This could involve making specific moves in certain situations, or using a particular pattern of moves to try to block the opponent's pieces and create opportunities to get three in a row. This type of heuristic's goal in AI is to lead to a better outcome than randomizing it."
   ]
  },
  {
   "cell_type": "markdown",
   "metadata": {},
   "source": [
    "### (2b) Compare A* to other algorithms\n",
    "Next, play 10 games of Connect Four using your A* player and a random player and 10 games against the AB pruning player. In four or five paragraphs, report on the outcome. Did one player win more than the other? How often was the game a draw? How many moves did each player make? Were there situations where one player appeared to do better than the other? Given the outcome, are there other heuristics you would like to implement?"
   ]
  },
  {
   "cell_type": "code",
   "execution_count": 42,
   "metadata": {},
   "outputs": [],
   "source": [
    "def three_in_a_row(game):\n",
    "    # Count the number of three-in-a-row patterns for the given player\n",
    "    state = game.state\n",
    "    player = game.state.to_move\n",
    "    count = 0\n",
    "    for row in range(state.nrow):\n",
    "        for col in range(state.ncol):\n",
    "            if state.board.get((row,col)) == player:\n",
    "                # Check for horizontal three-in-a-row patterns\n",
    "                if col <= state.ncol - 3:\n",
    "                    if state.board.get((row, col+1)) == player and state.board.get((row, col+2)) == player:\n",
    "                        count += 1\n",
    "                # Check for vertical three-in-a-row patterns\n",
    "                if row <= state.nrow - 3:\n",
    "                    if state.board.get((row+1, col)) == player and state.board.get((row+2, col)) == player:\n",
    "                        count += 1\n",
    "                # Check for diagonal three-in-a-row patterns\n",
    "                if row <= state.nrow - 3:\n",
    "                    if state.board.get((row+1, col+1)) == player and state.board.get((row+2, col+2)) == player:\n",
    "                        count += 1\n",
    "                        \n",
    "                if row > 3:\n",
    "                    if state.board.get((row-1, col+1)) == player and state.board.get((row-2, col+2)) == player:\n",
    "                        count += 1\n",
    "    return count"
   ]
  },
  {
   "cell_type": "code",
   "execution_count": 43,
   "metadata": {},
   "outputs": [],
   "source": [
    "def astar(game):\n",
    "    best = 0\n",
    "    state = game.state\n",
    "    player = game.state.to_move\n",
    "    best_action = game.state.moves\n",
    "    best_action_number = 0\n",
    "    for a in game.state.moves:\n",
    "        v = three_in_a_row(game)\n",
    "        if v > best_action_number:\n",
    "            best_action_number = v\n",
    "            best_action = a\n",
    "    # This retuns a number instead of an action\n",
    "    return a"
   ]
  },
  {
   "cell_type": "markdown",
   "metadata": {},
   "source": [
    "First we will do it against random player."
   ]
  },
  {
   "cell_type": "code",
   "execution_count": 47,
   "metadata": {},
   "outputs": [
    {
     "name": "stdout",
     "output_type": "stream",
     "text": [
      "First-player winning percentage = 1.0\n",
      "Second-player winning percentage = 0.0\n",
      "Draw percentage = 0.0\n"
     ]
    }
   ],
   "source": [
    "niter = 10\n",
    "wins = 0\n",
    "draws = 0\n",
    "losses = 0\n",
    "#\n",
    "for k in range(niter):\n",
    "    ttt = ConnectFour(3,4,3)\n",
    "    out = ttt.play_game(astar, random_player)\n",
    "    if out==1:\n",
    "        wins += 1\n",
    "    elif out==-1:\n",
    "        losses += 1\n",
    "    else:\n",
    "        draws += 1\n",
    "print('First-player winning percentage = {}'.format(wins/niter))\n",
    "print('Second-player winning percentage = {}'.format(losses/niter))\n",
    "print('Draw percentage = {}'.format(draws/niter))"
   ]
  },
  {
   "cell_type": "markdown",
   "metadata": {},
   "source": [
    "Then we'll make it go against alpha beta."
   ]
  },
  {
   "cell_type": "code",
   "execution_count": 48,
   "metadata": {},
   "outputs": [
    {
     "name": "stdout",
     "output_type": "stream",
     "text": [
      "First-player winning percentage = 1.0\n",
      "Second-player winning percentage = 0.0\n",
      "Draw percentage = 0.0\n"
     ]
    }
   ],
   "source": [
    "niter = 10\n",
    "wins = 0\n",
    "draws = 0\n",
    "losses = 0\n",
    "#\n",
    "for k in range(niter):\n",
    "    ttt = ConnectFour(3,4,3)\n",
    "    out = ttt.play_game(astar, alpha_beta_player)\n",
    "    if out==1:\n",
    "        wins += 1\n",
    "    elif out==-1:\n",
    "        losses += 1\n",
    "    else:\n",
    "        draws += 1\n",
    "print('First-player winning percentage = {}'.format(wins/niter))\n",
    "print('Second-player winning percentage = {}'.format(losses/niter))\n",
    "print('Draw percentage = {}'.format(draws/niter))"
   ]
  },
  {
   "cell_type": "markdown",
   "metadata": {},
   "source": [
    "Did one player win more than the other? My astar function usually won over alpha beta and random players, with a few exceptions. \n",
    "How often was the game a draw? It was never a draw for astar VS alpha beta and random.\n",
    "How many moves did each player make? It depends on the game. \n",
    "Were there situations where one player appeared to do better than the other? I think that for the most part as long as the player was a star it did better than the other players. This is because the three-in-a-row heuristic is extremely optimal and only chooses the best path. The fact that my a star function only went with the path that had the most three in a rows, made it a much more 'intelligent' algorithm than ab pruning and random player. It also eliminated the need to have a frontier queue since the variable kept track of cost. \n",
    "Given the outcome, are there other heuristics you would like to implement? Based on my results I think I would not want to implement any other heuristic, unless I added a acase that required it to check if there's a coin in between the three. That being said more often than not having three in a row (without being consecutive) is plenty enough information. I do think that Euclidean and Manhattan distances were both covered in lecture and might let me 'feel out' how A* works instead of trusting three_in_a_row to know what it's doing, so I might practice that in my free time. However outcome wise I believe my current a star is stellar. It also expands to fewest nodes, as stated in the slides. "
   ]
  },
  {
   "cell_type": "code",
   "execution_count": null,
   "metadata": {},
   "outputs": [],
   "source": []
  }
 ],
 "metadata": {
  "kernelspec": {
   "display_name": "Python 3 (ipykernel)",
   "language": "python",
   "name": "python3"
  },
  "language_info": {
   "codemirror_mode": {
    "name": "ipython",
    "version": 3
   },
   "file_extension": ".py",
   "mimetype": "text/x-python",
   "name": "python",
   "nbconvert_exporter": "python",
   "pygments_lexer": "ipython3",
   "version": "3.10.8"
  }
 },
 "nbformat": 4,
 "nbformat_minor": 4
}
